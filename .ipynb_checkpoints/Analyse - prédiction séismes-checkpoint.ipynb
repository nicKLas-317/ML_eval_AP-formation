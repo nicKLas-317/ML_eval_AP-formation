{
 "cells": [
  {
   "cell_type": "markdown",
   "id": "06fa477f",
   "metadata": {},
   "source": [
    "# Problématique projet : Les séismes depuis 1965 : peut-on faire des prédictions sur les séismes (type, magnitude, ...) en corrélation avec les plaques tectoniques ? "
   ]
  },
  {
   "cell_type": "markdown",
   "id": "de96bcab",
   "metadata": {},
   "source": [
    "### Importation des librairies"
   ]
  },
  {
   "cell_type": "code",
   "execution_count": 2,
   "id": "9041cea1",
   "metadata": {},
   "outputs": [
    {
     "name": "stdout",
     "output_type": "stream",
     "text": [
      "Libs loaded\n"
     ]
    }
   ],
   "source": [
    "import pandas as pd \n",
    "\n",
    "print('Libs loaded')"
   ]
  },
  {
   "cell_type": "code",
   "execution_count": null,
   "id": "c6bc80b1",
   "metadata": {},
   "outputs": [],
   "source": []
  },
  {
   "cell_type": "markdown",
   "id": "b5f33e01",
   "metadata": {},
   "source": [
    "### Importation des datasets"
   ]
  },
  {
   "cell_type": "code",
   "execution_count": null,
   "id": "2e816cd6",
   "metadata": {},
   "outputs": [],
   "source": [
    "seismes = pd.read_csv(\"./database.csv\")\n",
    "plaques = pd.read_csv(\"./plaques.csv\")\n"
   ]
  },
  {
   "cell_type": "code",
   "execution_count": null,
   "id": "21f139cf",
   "metadata": {},
   "outputs": [],
   "source": [
    "\n",
    "plaques.head()"
   ]
  },
  {
   "cell_type": "code",
   "execution_count": null,
   "id": "cce15cf6",
   "metadata": {},
   "outputs": [],
   "source": []
  },
  {
   "cell_type": "code",
   "execution_count": null,
   "id": "cfb09ddb",
   "metadata": {},
   "outputs": [],
   "source": []
  },
  {
   "cell_type": "code",
   "execution_count": null,
   "id": "5d153500",
   "metadata": {},
   "outputs": [],
   "source": []
  },
  {
   "cell_type": "code",
   "execution_count": null,
   "id": "9a637eaa",
   "metadata": {},
   "outputs": [],
   "source": []
  },
  {
   "cell_type": "code",
   "execution_count": null,
   "id": "0faa4ef7",
   "metadata": {},
   "outputs": [],
   "source": []
  },
  {
   "cell_type": "code",
   "execution_count": null,
   "id": "5724bc7e",
   "metadata": {},
   "outputs": [],
   "source": []
  }
 ],
 "metadata": {
  "kernelspec": {
   "display_name": "Python 3 (ipykernel)",
   "language": "python",
   "name": "python3"
  },
  "language_info": {
   "codemirror_mode": {
    "name": "ipython",
    "version": 3
   },
   "file_extension": ".py",
   "mimetype": "text/x-python",
   "name": "python",
   "nbconvert_exporter": "python",
   "pygments_lexer": "ipython3",
   "version": "3.9.7"
  }
 },
 "nbformat": 4,
 "nbformat_minor": 5
}
